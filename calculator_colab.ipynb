{
 "cells": [
  {
   "cell_type": "code",
   "execution_count": null,
   "id": "61732e8b",
   "metadata": {},
   "outputs": [],
   "source": [
    "!git clone --depth=1 https://github.com/OdyGoundi/ED_Calculator.git repo\n",
    "%cd repo\n",
    "!pip install pandas openpyxl ipywidgets\n",
    "%run Calculator.ipynb"
   ]
  }
 ],
 "metadata": {
  "language_info": {
   "name": "python"
  }
 },
 "nbformat": 4,
 "nbformat_minor": 5
}
