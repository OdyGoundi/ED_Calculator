{
 "cells": [
  {
   "cell_type": "code",
   "execution_count": null,
   "id": "61732e8b",
   "metadata": {},
   "outputs": [],
   "source": [
    "!git clone --depth=1 https://github.com/OdyGoundi/ED_Calculator.git repo\n",
    "%cd repo\n",
    "!pip install pandas openpyxl ipywidgets\n",
    "%run Calculator.ipynb"
   ]
  },
  {
   "cell_type": "code",
   "execution_count": null,
   "id": "355d6000",
   "metadata": {},
   "outputs": [],
   "source": [
    "import user_inputs as ui\n",
    "import user_inputs.environment_selector as environment_selector\n",
    "from IPython.display import display, clear_output\n",
    "from calculations.sar_matrix_loader import load_sar_matrix\n",
    "from calculations.environmental_exposure import calculate_environmental_dose\n",
    "from calculations.dose_calculation import calculate_dose"
   ]
  },
  {
   "cell_type": "code",
   "execution_count": null,
   "id": "412205f7",
   "metadata": {},
   "outputs": [],
   "source": [
    "# Get height and weight widgets (they won't be displayed yet)\n",
    "height_slider, height_input = ui.get_height_input()\n",
    "weight_slider, weight_input = ui.get_weight_input()"
   ]
  },
  {
   "cell_type": "code",
   "execution_count": null,
   "id": "b642a6ff",
   "metadata": {},
   "outputs": [],
   "source": [
    "# Call the function to create and display the BMI UI\n",
    "ui.create_bmi_ui()"
   ]
  },
  {
   "cell_type": "code",
   "execution_count": null,
   "id": "67f0c372",
   "metadata": {},
   "outputs": [],
   "source": [
    "# Display the environment selection UI\n",
    "environment_selector.create_environment_selector()"
   ]
  },
  {
   "cell_type": "code",
   "execution_count": null,
   "id": "ec099db1",
   "metadata": {},
   "outputs": [],
   "source": [
    "# Call the time allocation UI\n",
    "ui.create_time_sliders()"
   ]
  },
  {
   "cell_type": "code",
   "execution_count": null,
   "id": "8db666f1",
   "metadata": {},
   "outputs": [],
   "source": [
    "# Run Dose Calculation with selected inputs\n",
    "model = ui.selected_model\n",
    "env = environment_selector.selected_environment\n",
    "time_alloc = ui.get_time_allocation()\n",
    "\n",
    "total_dose = calculate_dose(model, env, time_alloc)\n",
    "print(f\"\\nTotal Daily Absorbed Dose: {total_dose:.3e} J/kg/day\")\n"
   ]
  }
 ],
 "metadata": {
  "language_info": {
   "name": "python"
  }
 },
 "nbformat": 4,
 "nbformat_minor": 5
}
