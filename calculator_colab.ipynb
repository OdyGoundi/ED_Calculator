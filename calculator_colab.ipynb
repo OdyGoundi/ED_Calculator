{
 "cells": [
  {
   "cell_type": "code",
   "execution_count": null,
   "id": "ff7023e1",
   "metadata": {},
   "outputs": [],
   "source": [
    "# 📦 Clone the repository\n",
    "!git clone --depth=1 https://github.com/OdyGoundi/ED_Calculator.git repo\n",
    "%cd repo"
   ]
  },
  {
   "cell_type": "code",
   "execution_count": null,
   "id": "1d34d5aa",
   "metadata": {},
   "outputs": [],
   "source": [
    "# 📦 Install dependencies\n",
    "!pip install pandas openpyxl ipywidgets"
   ]
  },
  {
   "cell_type": "code",
   "execution_count": null,
   "id": "574a2818",
   "metadata": {},
   "outputs": [],
   "source": [
    "# ✅ Load modules and handle fallback values\n",
    "import user_inputs as ui\n",
    "import user_inputs.environment_selector as environment_selector\n",
    "from calculations.sar_matrix_loader import load_sar_matrix\n",
    "from calculations.environmental_exposure import calculate_environmental_dose\n",
    "from calculations.dose_calculation import calculate_dose\n",
    "\n",
    "# Set fallback model and environment if not selected\n",
    "try:\n",
    "    model = ui.selected_model\n",
    "except AttributeError:\n",
    "    model = 'Eartha'\n",
    "\n",
    "try:\n",
    "    env = environment_selector.selected_environment\n",
    "except AttributeError:\n",
    "    env = 'Urban'\n",
    "\n",
    "# Get default or fallback time allocation\n",
    "try:\n",
    "    time_alloc = ui.get_time_allocation()\n",
    "except AttributeError:\n",
    "    time_alloc = {\n",
    "        'On the Road': 2,\n",
    "        'At Work': 8,\n",
    "        'At Home': 10,\n",
    "        'Other Indoor': 2,\n",
    "        'Other Outdoor': 2\n",
    "    }\n",
    "\n",
    "# Load SAR matrix\n",
    "sar_matrix = load_sar_matrix(model=model)\n",
    "\n",
    "# Calculate environmental dose\n",
    "dose_result = calculate_environmental_dose(sar_matrix, env, time_alloc)\n",
    "\n",
    "# Calculate total daily dose\n",
    "total_dose = calculate_dose(dose_result)\n",
    "\n",
    "print(f\"✅ Daily exposure dose for model '{model}' in '{env}' environment: {total_dose:.4e} J/kg/day\")"
   ]
  }
 ],
 "metadata": {},
 "nbformat": 4,
 "nbformat_minor": 5
}
