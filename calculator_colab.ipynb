{
 "cells": [
  {
   "cell_type": "code",
   "execution_count": null,
   "id": "ff7023e1",
   "metadata": {},
   "outputs": [],
   "source": [
    "# 📦 Clone the repository\n",
    "!git clone --depth=1 https://github.com/OdyGoundi/ED_Calculator.git repo\n",
    "%cd repo\n",
    "import sys\n",
    "sys.path.append(\"parameters\")  "
   ]
  },
  {
   "cell_type": "code",
   "execution_count": null,
   "id": "1d34d5aa",
   "metadata": {},
   "outputs": [],
   "source": [
    "# 📦 Install dependencies\n",
    "!pip install pandas openpyxl ipywidgets"
   ]
  },
  {
   "cell_type": "code",
   "execution_count": null,
   "id": "574a2818",
   "metadata": {},
   "outputs": [],
   "source": [
    "from enviroment_params import ENVIRONMENT_EMF\n",
    "\n",
    "# Select field dictionary for indoor exposure\n",
    "E_fields = ENVIRONMENT_EMF[env][\"indoor\"]\n",
    "\n",
    "# Now calculate doses properly\n",
    "dose_result = calculate_environmental_dose(sar_matrix, E_fields, time_alloc)\n",
    "total_dose = calculate_dose(dose_result)\n",
    "\n",
    "print(f\"✅ Daily exposure dose for model '{model}' in '{env}' environment: {total_dose:.4e} J/kg/day\")"
   ]
  }
 ],
 "metadata": {
  "language_info": {
   "name": "python"
  }
 },
 "nbformat": 4,
 "nbformat_minor": 5
}
